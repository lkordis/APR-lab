{
 "cells": [
  {
   "cell_type": "markdown",
   "metadata": {
    "collapsed": true
   },
   "source": [
    "# 3. DOMAĆA ZADAĆA - AK.GOD 2017/2018"
   ]
  },
  {
   "cell_type": "code",
   "execution_count": 10,
   "metadata": {
    "collapsed": true
   },
   "outputs": [],
   "source": [
    "from math import sqrt,sin\n",
    "import numpy as np\n",
    "import sys\n",
    "import simple_optimisation\n",
    "from LUP import Matrix"
   ]
  },
  {
   "cell_type": "markdown",
   "metadata": {},
   "source": [
    "## Postupak najbržeg spusta (gradijentni spust)"
   ]
  },
  {
   "cell_type": "code",
   "execution_count": 25,
   "metadata": {
    "collapsed": true
   },
   "outputs": [],
   "source": [
    "def gradient_descent(f,x0,golden_ratio=False,e=10e-6):\n",
    "    x = np.asarray(x0)\n",
    "        \n",
    "    gradient = np.asarray(f.gradient(x0))\n",
    "    gradient_norm = np.linalg.norm(gradient)\n",
    "    iteration = 0\n",
    "    \n",
    "    while(gradient_norm > e):\n",
    "        v = [-i/gradient_norm for i in gradient]\n",
    "        \n",
    "        for i in range(len(x0)):\n",
    "            vi = [ v[j] if i==j else 0 for j in range(len(v))]\n",
    "            lambda_ = lambda alpha: f.call([x[j] + alpha*vi[j] for j in range(len(x0))])\n",
    "            lambda_min = 1 if not golden_ratio else simple_optimisation.golden_ratio(f=lambda_, starting_point=x[i])\n",
    "            x = x+lambda_min*np.asarray(vi)\n",
    "        \n",
    "        gradient_norm_old = gradient_norm\n",
    "        gradient = np.asarray(f.gradient(x.tolist()))\n",
    "        gradient_norm = np.linalg.norm(gradient)\n",
    "        \n",
    "        if gradient_norm_old < gradient_norm:\n",
    "            iteration += 1\n",
    "        \n",
    "        if iteration >= 100:\n",
    "            print(\"Ended at max same iterations\")\n",
    "            break\n",
    "    return x"
   ]
  },
  {
   "cell_type": "markdown",
   "metadata": {
    "collapsed": true
   },
   "source": [
    "## Newton-Raphsonov postupak"
   ]
  },
  {
   "cell_type": "code",
   "execution_count": 12,
   "metadata": {
    "collapsed": true
   },
   "outputs": [],
   "source": [
    "def lin_system(A,b):\n",
    "    dek, P = A.LUP_decomposition()\n",
    "    L = dek.get_L()\n",
    "    U = dek.get_U()\n",
    "    y = L.forward_substitution(P*b)\n",
    "    x = U.back_substitution(y)\n",
    "    return x\n",
    "\n",
    "def set_parameters(f,x):\n",
    "    df_ = np.asarray([f.gradient(x)]).T.tolist()\n",
    "    dF = Matrix(len(x),1)\n",
    "    dF.set_data(df_)\n",
    "    H = Matrix(len(x),len(x))\n",
    "    H.set_data(f.hesse(x))\n",
    "        \n",
    "    dx = np.asarray(lin_system(H,-1*dF).tolist()).T\n",
    "    v = dx/np.linalg.norm(dx)\n",
    "    return v"
   ]
  },
  {
   "cell_type": "code",
   "execution_count": 41,
   "metadata": {
    "collapsed": true
   },
   "outputs": [],
   "source": [
    "def newton_raphson(f,x0,golden_ratio=False,e=10e-6):\n",
    "    x = np.asarray(x0)\n",
    "    v = set_parameters(f,x).tolist()[0]\n",
    "    \n",
    "    iteration = 0\n",
    "    \n",
    "    while(np.linalg.norm(v) > e):\n",
    "        x_old = x.copy()\n",
    "        for i in range(len(x0)):\n",
    "            vi = [ v[j] if i==j else 0 for j in range(len(v))]\n",
    "            lambda_ = lambda alpha: f.call([x[j] + alpha*vi[j] for j in range(len(x0))])\n",
    "            lambda_min = 1 if not golden_ratio else simple_optimisation.golden_ratio(f=lambda_, starting_point=x[i])\n",
    "            x = x+lambda_min*np.asarray(vi)\n",
    "        \n",
    "        v = set_parameters(f,x).tolist()[0]\n",
    "        \n",
    "        if f.call(x) > f.call(x_old):\n",
    "            iteration += 1\n",
    "        \n",
    "        if iteration > 100:\n",
    "            break\n",
    "            \n",
    "    return x"
   ]
  },
  {
   "cell_type": "code",
   "execution_count": 8,
   "metadata": {},
   "outputs": [
    {
     "name": "stdout",
     "output_type": "stream",
     "text": [
      "[ 0.99984535  0.99969146]\n"
     ]
    },
    {
     "data": {
      "text/plain": [
       "2.3970411160557376e-08"
      ]
     },
     "execution_count": 8,
     "metadata": {},
     "output_type": "execute_result"
    }
   ],
   "source": [
    "f1.call(newton_raphson(f1,[-1.9,2],golden_ratio=True))"
   ]
  },
  {
   "cell_type": "markdown",
   "metadata": {
    "collapsed": true
   },
   "source": [
    "## Postupak po Boxu"
   ]
  },
  {
   "cell_type": "code",
   "execution_count": 14,
   "metadata": {
    "collapsed": true
   },
   "outputs": [],
   "source": [
    "import random"
   ]
  },
  {
   "cell_type": "code",
   "execution_count": 15,
   "metadata": {
    "collapsed": true
   },
   "outputs": [],
   "source": [
    "def simplex_stop_condition(f,x,xc,e):\n",
    "    result = 0.0\n",
    "    for i in range(len(x)):\n",
    "        result += (f(x[i]) - f(xc))**2\n",
    "    return sqrt(result/len(x)) > e\n",
    "\n",
    "def find_x(f,value,X):\n",
    "    for i in range(len(X)):\n",
    "        if f(X[i]) == value:\n",
    "            return i\n",
    "\n",
    "def centroid(x):\n",
    "    xc = [0 for i in range(len(x[0]))]\n",
    "    for i in range(len(x)):\n",
    "        for j in range(len(x[i])):\n",
    "            xc[j] += x[i][j]\n",
    "    return [i/len(x) for i in xc]\n",
    "\n",
    "def reflection(xh,xc,alpha):\n",
    "    xr = [0 for i in range(len(xc))]\n",
    "    for i in range(len(xc)):\n",
    "        xr[i] = (1+alpha)*xc[i] - alpha*xh[i]\n",
    "    return xr\n",
    "\n",
    "def check_limitations(X,G,Xc):\n",
    "    while(len(list(filter(lambda x: x < 0 ,G(X)))) > 0):\n",
    "            X = 0.5 * (X + Xc)\n",
    "    return X"
   ]
  },
  {
   "cell_type": "code",
   "execution_count": 45,
   "metadata": {
    "collapsed": true
   },
   "outputs": [],
   "source": [
    "def box(f,x0,xg,xd,G,alpha=1.3,e=10e-6):\n",
    "    '''if not check_starting_point:\n",
    "        print(\"Postupak zaustavljen - početna točka nije prihvaćena\")\n",
    "        return'''\n",
    "    \n",
    "    Xc = np.asarray(list(x0))\n",
    "    X = np.asarray([[ float(0) for _ in range(len(x0))] for _ in range(2*len(x0))])\n",
    "    \n",
    "    for t in range(2*len(x0)):\n",
    "        for i in range(len(x0)):\n",
    "            R = random.random()\n",
    "            X[t][i] = xd[i] + R*(xg[i] - xd[i])\n",
    "        X[t] = check_limitations(X[t],G,Xc)\n",
    "        Xc = np.asarray(centroid(X))\n",
    "\n",
    "    while(simplex_stop_condition(f.call,X,Xc,e)):\n",
    "        f_sorted = sorted([f.call(x) for x in X],reverse=True)\n",
    "        h = find_x(f.call,f_sorted[0],X)\n",
    "        h2 = find_x(f.call,f_sorted[1], X)\n",
    "        Xc = np.asarray(centroid(list(filter(lambda l: l != X.tolist()[h], X.tolist()))))\n",
    "        Xr = np.asarray(reflection(X[h],Xc,alpha))\n",
    "        for i in range(len(x0)):\n",
    "            if Xr[i] < xd[i]:\n",
    "                Xr[i] = xd[i]\n",
    "            elif Xr[i] > xg[i]:\n",
    "                Xr[i] = xg[i]\n",
    "        Xr = check_limitations(Xr,G,Xc)\n",
    "        if f.call(Xr) > f.call(X[h2]):\n",
    "            Xr = 0.5 * (Xr + Xc)\n",
    "        \n",
    "        X[h] = Xr\n",
    "    return Xc"
   ]
  },
  {
   "cell_type": "markdown",
   "metadata": {},
   "source": [
    "## Postupak transformacije u problem bez ograničenja na mješoviti način "
   ]
  },
  {
   "cell_type": "code",
   "execution_count": 55,
   "metadata": {
    "collapsed": true
   },
   "outputs": [],
   "source": [
    "def check_starting_point(x0,G,H):\n",
    "    if len(list(filter(lambda x: x < 0, G(x0)))) > 0:\n",
    "        return False\n",
    "    elif len(list(filter(lambda x: x != 0, H(x0)))) > 0:\n",
    "        return False\n",
    "    return True\n",
    "\n",
    "def find_starting_point(x0,G,t):\n",
    "    F = lambda x: -1*sum([g if g < 0 else 0 for g in G(x)])\n",
    "    x = simple_optimisation.hooke_jeeves_search(F,x0)\n",
    "    return x\n",
    "\n",
    "def mix_stop_condition(x,xs,e):\n",
    "    for i in range(len(x)):\n",
    "        if(abs(x[i] - xs[i]) > e): return False\n",
    "    return True"
   ]
  },
  {
   "cell_type": "code",
   "execution_count": 49,
   "metadata": {
    "collapsed": true
   },
   "outputs": [],
   "source": [
    "def mjesoviti_nacin(f,x0,G,H,t=1,e=10e-6):\n",
    "    if not check_starting_point(x0,G,H):\n",
    "        x0 = find_starting_point(x0,G,t)\n",
    "            \n",
    "    x = list(x0)\n",
    "    while(True):\n",
    "        xs = list(x)\n",
    "        U = lambda x: f.call(x) - (1/t)*sum([10e12 if g <= 0 else np.log(g) for g in G(x)]) + t*sum([h**2 for h in H(x)])\n",
    "        x = simple_optimisation.hooke_jeeves_search(U,x)\n",
    "        t *= 10\n",
    "        if mix_stop_condition(x,xs,e): \n",
    "            return x"
   ]
  },
  {
   "cell_type": "markdown",
   "metadata": {
    "collapsed": true
   },
   "source": [
    "## Funkcije"
   ]
  },
  {
   "cell_type": "code",
   "execution_count": 19,
   "metadata": {
    "collapsed": true
   },
   "outputs": [],
   "source": [
    "class Function:\n",
    "    counter, gradient_counter, hesse_counter = 0,0,0\n",
    "    def __init__(self,f,df,H=None):\n",
    "        self.f = f\n",
    "        self.df = df\n",
    "        if H: self.H = H\n",
    "    \n",
    "    def call(self,x):\n",
    "        self.counter += 1\n",
    "        return self.f(x)\n",
    "    \n",
    "    def gradient(self,x):\n",
    "        self.gradient_counter += 1\n",
    "        return self.df(x)\n",
    "    \n",
    "    def hesse(self,x):\n",
    "        self.hesse_counter += 1\n",
    "        return self.H(x)\n",
    "    \n",
    "    def gradient_norm(self,x):\n",
    "        result = 0\n",
    "        for i in self.df(x):\n",
    "            result += i**2\n",
    "        return sqrt(result)"
   ]
  },
  {
   "cell_type": "code",
   "execution_count": 36,
   "metadata": {},
   "outputs": [],
   "source": [
    "function1 = lambda x: 100*(x[1]-x[0]**2)**2 + (1-x[0])**2\n",
    "dfunction1 = lambda x: [-400*x[0]*(x[1]-x[0]**2)-2*(1-x[0]),200*(x[1]-x[0]**2)]\n",
    "def hesse1(x):\n",
    "    return [[-400*(x[1]-3*x[0]**2)+2, -400*x[0]],[-400*x[0], 200]]\n",
    "    \n",
    "f1 = Function(function1,dfunction1,H=hesse1)"
   ]
  },
  {
   "cell_type": "code",
   "execution_count": 37,
   "metadata": {},
   "outputs": [],
   "source": [
    "function2 = lambda x: (x[0]-4)**2 + 4*(x[1]-2)**2\n",
    "dfunction2 = lambda x: [2*(x[0]-4),8*(x[1]-2)]\n",
    "hesse2 = lambda x: [[2,0],[0,8]]\n",
    "f2 = Function(function2,dfunction2,hesse2)"
   ]
  },
  {
   "cell_type": "code",
   "execution_count": 38,
   "metadata": {
    "collapsed": true
   },
   "outputs": [],
   "source": [
    "function3 = lambda x: (x[0]-2)**2+(x[1]+3)**2\n",
    "dfunction3 = lambda x: [2*(x[0]-2), 2*(x[1]+3)]\n",
    "hesse3 = lambda x: [[2,0],[0,2]]\n",
    "f3 = Function(function3,dfunction3,hesse3)"
   ]
  },
  {
   "cell_type": "code",
   "execution_count": 39,
   "metadata": {
    "collapsed": true
   },
   "outputs": [],
   "source": [
    "function4 = lambda x: (x[0]-3)**2 + x[1]**2\n",
    "dfunction4 = lambda x: [2*(x[0]-3), 2*x[1]]\n",
    "hesse4 = lambda x: [[2,0],[0,2]]\n",
    "f4 = Function(function4,dfunction4,hesse4)"
   ]
  },
  {
   "cell_type": "markdown",
   "metadata": {},
   "source": [
    "## 1.Zadatak"
   ]
  },
  {
   "cell_type": "code",
   "execution_count": 56,
   "metadata": {},
   "outputs": [
    {
     "name": "stdout",
     "output_type": "stream",
     "text": [
      "Ended at max same iterations\n",
      "[ 1.66410059 -2.49615088]\n",
      "[ 2.00000101 -3.00000152]\n"
     ]
    }
   ],
   "source": [
    "print(gradient_descent(f3,[0,0],golden_ratio=False))\n",
    "print(gradient_descent(f3,[0,0],golden_ratio=True))"
   ]
  },
  {
   "cell_type": "markdown",
   "metadata": {},
   "source": [
    "## 2. Zadatak"
   ]
  },
  {
   "cell_type": "code",
   "execution_count": 44,
   "metadata": {},
   "outputs": [
    {
     "name": "stdout",
     "output_type": "stream",
     "text": [
      "Ended at max same iterations\n",
      "[ 0.99978326  0.99956657] Broj poziva funkcije:  234714  gradijenta:  2754\n",
      "[ 0.99984535  0.99969146] Broj poziva funkcije:  201557  gradijenta:  3054\n",
      "[ 3.99999956  2.00000008] Broj poziva funkcije:  73  gradijenta:  2\n",
      "[ 3.99999859  2.        ] Broj poziva funkcije:  72434  gradijenta:  1007\n"
     ]
    }
   ],
   "source": [
    "f1 = Function(function1,dfunction1,H=hesse1)\n",
    "print(gradient_descent(f1,[-1.9,2],golden_ratio=True), \"Broj poziva funkcije: \", f1.counter, \" gradijenta: \", f1.gradient_counter)\n",
    "f1 = Function(function1,dfunction1,H=hesse1)\n",
    "print(newton_raphson(f1,[-1.9,2],golden_ratio=True), \"Broj poziva funkcije: \", f1.counter,\" gradijenta: \", f1.gradient_counter)\n",
    "\n",
    "f2 = Function(function2,dfunction2,hesse2)\n",
    "print(gradient_descent(f2,[0.1,0.3],golden_ratio=True), \"Broj poziva funkcije: \", f2.counter, \" gradijenta: \", f2.gradient_counter)\n",
    "f2 = Function(function2,dfunction2,hesse2)\n",
    "print(newton_raphson(f2,[0.1,0.3],golden_ratio=True), \"Broj poziva funkcije: \", f2.counter,\" gradijenta: \", f2.gradient_counter)"
   ]
  },
  {
   "cell_type": "markdown",
   "metadata": {},
   "source": [
    "## 3. Zadatak"
   ]
  },
  {
   "cell_type": "code",
   "execution_count": 46,
   "metadata": {
    "scrolled": true
   },
   "outputs": [
    {
     "data": {
      "text/plain": [
       "array([ 1.00084755,  1.00178364])"
      ]
     },
     "execution_count": 46,
     "metadata": {},
     "output_type": "execute_result"
    }
   ],
   "source": [
    "G = lambda x: [x[1]-x[0], 2-x[0]]\n",
    "box(f1,[-1.9,2],[100,100], [-100,-100], G)"
   ]
  },
  {
   "cell_type": "code",
   "execution_count": 48,
   "metadata": {},
   "outputs": [
    {
     "data": {
      "text/plain": [
       "array([ 1.99998681,  2.0014321 ])"
      ]
     },
     "execution_count": 48,
     "metadata": {},
     "output_type": "execute_result"
    }
   ],
   "source": [
    "G = lambda x: [x[1]-x[0], 2-x[0]]\n",
    "box(f2,[0.1,0.3],[100,100], [-100,-100], G)"
   ]
  },
  {
   "cell_type": "markdown",
   "metadata": {},
   "source": [
    "## 4. Zadatak"
   ]
  },
  {
   "cell_type": "code",
   "execution_count": 52,
   "metadata": {},
   "outputs": [
    {
     "data": {
      "text/plain": [
       "[0.9996887207031251, 0.9994049072265625]"
      ]
     },
     "execution_count": 52,
     "metadata": {},
     "output_type": "execute_result"
    }
   ],
   "source": [
    "G = lambda x: [x[1]-x[0], 2-x[0]]\n",
    "mjesoviti_nacin(f1,[-1.9,2], G, lambda x: [0])"
   ]
  },
  {
   "cell_type": "code",
   "execution_count": 53,
   "metadata": {},
   "outputs": [
    {
     "data": {
      "text/plain": [
       "[4.000001525878906, 1.9999969482421873]"
      ]
     },
     "execution_count": 53,
     "metadata": {},
     "output_type": "execute_result"
    }
   ],
   "source": [
    "mjesoviti_nacin(f2,[0.1,0.3], G, lambda x: [0])"
   ]
  },
  {
   "cell_type": "markdown",
   "metadata": {},
   "source": [
    "## 5. Zadatak"
   ]
  },
  {
   "cell_type": "code",
   "execution_count": 54,
   "metadata": {},
   "outputs": [
    {
     "name": "stdout",
     "output_type": "stream",
     "text": [
      "7\n"
     ]
    },
    {
     "data": {
      "text/plain": [
       "[3.0000152587890625, 1.0]"
      ]
     },
     "execution_count": 54,
     "metadata": {},
     "output_type": "execute_result"
    }
   ],
   "source": [
    "G = lambda x: [3-x[0]-x[1], 3+1.5*x[0]-x[1]]\n",
    "H = lambda x: [x[1]-1]\n",
    "\n",
    "mjesoviti_nacin(f4,[5,5], G, H)"
   ]
  },
  {
   "cell_type": "code",
   "execution_count": null,
   "metadata": {
    "collapsed": true
   },
   "outputs": [],
   "source": []
  }
 ],
 "metadata": {
  "kernelspec": {
   "display_name": "Python 3",
   "language": "python",
   "name": "python3"
  },
  "language_info": {
   "codemirror_mode": {
    "name": "ipython",
    "version": 3
   },
   "file_extension": ".py",
   "mimetype": "text/x-python",
   "name": "python",
   "nbconvert_exporter": "python",
   "pygments_lexer": "ipython3",
   "version": "3.6.2"
  }
 },
 "nbformat": 4,
 "nbformat_minor": 2
}

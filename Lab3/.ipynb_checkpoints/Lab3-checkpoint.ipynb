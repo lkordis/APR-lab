{
 "cells": [
  {
   "cell_type": "markdown",
   "metadata": {
    "collapsed": true
   },
   "source": [
    "# 3. DOMAĆA ZADAĆA - AK.GOD 2017/2018"
   ]
  },
  {
   "cell_type": "markdown",
   "metadata": {},
   "source": [
    "## Postupak najbržeg spusta (gradijentni spust)"
   ]
  },
  {
   "cell_type": "code",
   "execution_count": 2,
   "metadata": {
    "collapsed": true
   },
   "outputs": [],
   "source": [
    "from math import sqrt,sin"
   ]
  },
  {
   "cell_type": "code",
   "execution_count": 1,
   "metadata": {
    "collapsed": true
   },
   "outputs": [],
   "source": [
    "def unimodal_interval(f, starting_point, h = 1):\n",
    "    l = starting_point - h\n",
    "    r = starting_point + h\n",
    "    m = starting_point\n",
    "    step = 1\n",
    "    \n",
    "    fm = f(starting_point)\n",
    "    fl,fr = f(l),f(r)\n",
    "    \n",
    "    if(fm < fr and fm < fl):\n",
    "        return l,r\n",
    "    elif(fm > fr):\n",
    "        while(fm > fr):\n",
    "            l,m,fm = m,r,fr\n",
    "            step *= 2\n",
    "            r = starting_point + h * step\n",
    "            fr = f(r)\n",
    "    else:\n",
    "        while(fm > fl):\n",
    "            r,m,fm = m,l,fl\n",
    "            step *= 2\n",
    "            l = starting_point - h * step;\n",
    "            fl = f(l);\n",
    "            \n",
    "    return l,r\n",
    "\n",
    "def golden_ratio(f, interval = None, starting_point = None, e=10e-6):\n",
    "    k = 0.5*(sqrt(5)-1)\n",
    "    steps = 0\n",
    "    \n",
    "    if interval == None:\n",
    "        a,b = unimodal_interval(f, starting_point=starting_point)\n",
    "    else:\n",
    "        a,b = interval\n",
    "        \n",
    "    c = b - k*(b-a)\n",
    "    d = a + k*(b-a)\n",
    "    fc = f(c)\n",
    "    fd = f(d)\n",
    "    \n",
    "    while((b-a) > e):\n",
    "        if(fc < fd):\n",
    "            b = d\n",
    "            d = c\n",
    "            c = b - k*(b-a)\n",
    "            fd = fc\n",
    "            fc = f(c)\n",
    "        else:\n",
    "            a = c\n",
    "            c = d\n",
    "            d = a + k*(b-a)\n",
    "            fc = fd\n",
    "            fd = f(d)\n",
    "        steps += 1\n",
    "        print(\"a  c  d  b\")\n",
    "        print(a,c,d,b)\n",
    "        \n",
    "    return (a+b)/2"
   ]
  },
  {
   "cell_type": "code",
   "execution_count": null,
   "metadata": {
    "collapsed": true
   },
   "outputs": [],
   "source": []
  }
 ],
 "metadata": {
  "kernelspec": {
   "display_name": "Python 3",
   "language": "python",
   "name": "python3"
  },
  "language_info": {
   "codemirror_mode": {
    "name": "ipython",
    "version": 3
   },
   "file_extension": ".py",
   "mimetype": "text/x-python",
   "name": "python",
   "nbconvert_exporter": "python",
   "pygments_lexer": "ipython3",
   "version": "3.6.2"
  }
 },
 "nbformat": 4,
 "nbformat_minor": 2
}

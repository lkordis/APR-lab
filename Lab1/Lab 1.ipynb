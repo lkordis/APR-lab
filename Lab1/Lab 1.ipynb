{
 "cells": [
  {
   "cell_type": "markdown",
   "metadata": {},
   "source": [
    "# 1.DOMAĆA ZADAĆA – AK. GOD. 2017/18\n",
    "## Domaća zadaća\n",
    "\n",
    "Implementirajte razred Matrica (ili neku sličnu programsku cjelinu) koji omogućava jednostavnije rukovanje\n",
    "objektima tipa dvodimenzionalne matrice. Razred mora imati barem sljedeće elemente:\n",
    "* podatke o dimenzijama matrice i dinamički zauzete elemente matrice tipa double. Smještaj sadržaja matrice u memoriji organizirati po izboru, uz dinamičko zauzimanje memorije.\n",
    "* potrebne konstruktore i destruktore, po potrebi metode za mijenjanje dimenzija matrice.\n",
    "* operator ili metoda pridruživanja (funkcionalnost A = B).\n",
    "* metoda koja čita matricu iz tekstne datoteke u kojoj je matrica smještena tako da jedan redak matrice odgovara jednom retku u datoteci. Na osnovu broja elemenata u prvom retku određuje se broj stupaca matrice, a redaka ima koliko ima i redaka u datoteci. Brojevi u jednom retku mogu biti odvojeni razmakom ili tabulatorom. Vidi primjer ulazne datoteke na kraju!\n",
    "* metoda koja ispisuje matricu u datoteku u istom formatu, te metodu koja ispisuje matricu na ekran.\n",
    "* metode za postavljanje i dohvat jednog elementa matrice. Može biti implementirano i istom metodom, uz korištenje funkcije koja vraća referencu i/ili nadgradnjom operatora [] (C++) ili nekim drugim postupkom po želji.\n",
    "* metode za zbrajanje, oduzimanje, množenje i transponiranje matrica, te metode koje obavljaju C operatore \"+=\" i \"-=\". Preporuča se da budu implementirane kao nadgrađeni operatori.\n",
    "* metoda za množenje matrice sa skalarom. Može biti ostvarena i kao operator.\n",
    "* operator == za usporedbu matrica. \n"
   ]
  },
  {
   "cell_type": "markdown",
   "metadata": {},
   "source": [
    "Razredu Matrica treba dodati:\n",
    "* metode koje izvode supstituciju unaprijed i supstituciju unatrag. Metode neka kao ulazni parametar(slobodni vektor s desne strane sustava) primaju vektor čija je duljina jednaka dimenziji kvadratne matrice, a koji je i sam ostvaren objektom razreda Matrica. Također trebaju vraćati vektor kao objekt tipa Matrica (u kojemu će biti upisano rješenje odgovarajućeg postupka).\n",
    "* metodu (metode) koje izvode LU i LUP dekompoziciju (kvadratne) matrice koristeći isti memorijski prostor za spremanje rezultantnih matrica L i U. Izbor odgovarajuće metode može se riješiti nekim dodatnim kontrolnim parametrom. Obratiti pažnju na mogućnost pojave nule kao stožernog (pivot) elementa (metode moraju imati neki mehanizam otkrivanja i prijave pogreške korisniku!).\n",
    "* nije obvezatno, ali može pomoći: metode koje manipuliraju stupcima matrice (postavljaju i vraćaju određeni stupac matrice pomoću objekta istoga tipa), jer se operacije te vrste često koriste u opisanim postupcima. \n",
    "\n",
    "Obratite pažnju na situacije u kojima se kao stožerni element može pojaviti nula ili neka jako mala\n",
    "vrijednost (na bilo kojem mjestu u vašoj implementaciji!). Program treba 'preživjeti' pojavu takvih okolnosti\n",
    "i prijaviti grešku. U tom slučaju ne smije se ispisati rješenje koje matematički nema smisla.\n",
    "Glavni program treba iz zadanih datoteka pročitati matricu sustava i slobodni vektor u zadanom formatu\n",
    "(zadaci u nastavku) te riješiti takav sustav. Rješavanje sustava se treba odvijati u koracima i u svakom\n",
    "koraku moraju se moći vidjeti međurezultati. Rješenje također mora biti prikazano u datoteci ili na zaslonu. \n"
   ]
  },
  {
   "cell_type": "code",
   "execution_count": 2,
   "metadata": {},
   "outputs": [
    {
     "name": "stdout",
     "output_type": "stream",
     "text": [
      "Populating the interactive namespace from numpy and matplotlib\n"
     ]
    }
   ],
   "source": [
    "%pylab inline"
   ]
  },
  {
   "cell_type": "code",
   "execution_count": 84,
   "metadata": {
    "collapsed": true
   },
   "outputs": [],
   "source": [
    "class Matrix:\n",
    "    limit = 1e-6\n",
    "    \n",
    "    def __init__(self, rows, columns):\n",
    "        self.rows, self.columns = rows, columns\n",
    "        self.data = []\n",
    "        for i in range(self.rows):\n",
    "                self.data.append([None] * self.columns)\n",
    "        \n",
    "    def forward_substitution(self, b):\n",
    "        if(self.columns != self.rows): return 0\n",
    "        n = self.rows\n",
    "        y = b.copy()\n",
    "        \n",
    "        for i in range(n-1):\n",
    "            for j in range(i+1,n):\n",
    "                y.data[j][0] -= (self.data[j][i] * y.data[i][0])\n",
    "                \n",
    "        return y\n",
    "    \n",
    "    def back_substitution(self, y):\n",
    "        if(self.columns != self.rows): return 0\n",
    "        n = self.rows\n",
    "        x = y.copy()\n",
    "        \n",
    "        for i in range(n-1,-1, -1):\n",
    "            if(abs(self.data[i][i]) < self.limit):\n",
    "                print(\"Postupak zaustavljen u supstituciji unatrag jer je pivot manji od zadane granice!\")\n",
    "                return\n",
    "            x.data[i][0] /= self.data[i][i]\n",
    "            for j in range(i):\n",
    "                x.data[j][0] -= (self.data[j][i] * x.data[i][0])\n",
    "                \n",
    "        return x\n",
    "    \n",
    "    def read_from_file(filename):\n",
    "        data = []\n",
    "        columns, rows = 0,0\n",
    "        with open(filename) as f:\n",
    "            lines = list(f)\n",
    "            rows = len(lines)\n",
    "            for l in lines:\n",
    "                row = l.split()\n",
    "                columns = len(row)\n",
    "                data.append(row)\n",
    "        \n",
    "        matrix = Matrix(rows,columns)\n",
    "        matrix.set_data(data)\n",
    "        return matrix\n",
    "    \n",
    "    def write_to_file(self, filename):\n",
    "        with open(filename, 'w') as f:\n",
    "            f.write(str(self))\n",
    "        return\n",
    "    \n",
    "    def LU_decomposition(self):\n",
    "        if (self.rows != self.columns):\n",
    "            raise Exception(\"LU dekompozicija izvediva je samo na kvadratnoj matrici!\");\n",
    "        work_matrix = self.copy()\n",
    "        for i in range( self.rows - 1):\n",
    "            for j in range(i+1, self.columns):\n",
    "                if (abs(work_matrix.data[i][i]) < self.limit):\n",
    "                    print(\"LU dekompozicija je zaustavljena jer je detektiran stozerni element manji od zadane granice!\");\n",
    "                    print(\"Pokrećem LUP dekompoziciju..\")\n",
    "                    return self.LUP_decomposition()\n",
    "                work_matrix.data[j][i] /= work_matrix.data[i][i]\n",
    "                for k in range(i+1, self.rows):\n",
    "                    work_matrix.data[j][k] -= work_matrix.data[j][i] * work_matrix.data[i][k]\n",
    "        return work_matrix\n",
    "    \n",
    "    def LUP_decomposition(self):\n",
    "        P = Matrix.eye(self.rows)\n",
    "        work_matrix = self.copy()\n",
    "        \n",
    "        for i in range(self.rows - 1):\n",
    "            pivot = i\n",
    "            for j in range(i+1, self.rows):\n",
    "                if ( abs(work_matrix.get_element((j,i))) > abs(work_matrix.get_element((pivot,i)))):\n",
    "                    pivot = j\n",
    "            if( abs(work_matrix.data[pivot][i]) < self.limit):\n",
    "                print(\"LUP dekompozicija je zaustavljena jer je detektiran stozerni element manji od zadane granice!\");\n",
    "                return\n",
    "            \n",
    "            work_matrix = work_matrix.switch_rows(i, pivot)\n",
    "            P = P.switch_rows(i, pivot)\n",
    "            \n",
    "            for j in range(i+1, self.rows):\n",
    "                work_matrix.data[j][i] /= work_matrix.data[i][i]\n",
    "                for k in range (i+1, self.rows):\n",
    "                    work_matrix.data[j][k] -= work_matrix.data[j][i] * work_matrix.data[i][k]\n",
    "\n",
    "        return work_matrix, P\n",
    "    \n",
    "    def switch_rows(self,i,j):\n",
    "        m = self.copy()\n",
    "        for k in range(self.columns):\n",
    "            m.set_element((i, k), self.get_element((j, k)))\n",
    "            m.set_element((j, k), self.get_element((i, k)))\n",
    "        return m\n",
    "    \n",
    "    def get_L(self ):\n",
    "        L = Matrix(self.rows, self.columns)\n",
    "        for i in range(self.rows):\n",
    "            for j in range(self.columns):\n",
    "                if (i == j ):\n",
    "                    L.set_element((i, j), 1)\n",
    "                elif (i > j):\n",
    "                    L.set_element((i, j), self.data[i][j])\n",
    "                else:\n",
    "                    L.set_element((i, j), 0)\n",
    "        return L\n",
    "    \n",
    "    def get_U(self):\n",
    "        U = Matrix(self.rows, self.columns)\n",
    "        for i in range(self.rows):\n",
    "            for j in range(self.columns):\n",
    "                if (i <= j):\n",
    "                    U.set_element((i, j), self.get_element((i, j)))\n",
    "                else:\n",
    "                    U.set_element((i, j), 0)\n",
    "        return U\n",
    "    \n",
    "    def copy(self):\n",
    "        new_matrix = Matrix(self.rows, self.columns)\n",
    "        new_matrix.set_data(self.data)\n",
    "        return new_matrix\n",
    "    \n",
    "    def eye(size):\n",
    "        matrix  = Matrix(size,size)\n",
    "        for i in range(size):\n",
    "            for j in range(size):\n",
    "                if(i==j): matrix.set_element((i,j),1)\n",
    "                else: matrix.set_element((i,j),0)\n",
    "        return matrix\n",
    "    \n",
    "    def set_data(self, data):\n",
    "        for i in range(self.rows):\n",
    "            for j in range(self.columns):\n",
    "                self.set_element((i, j), float(data[i][j]))\n",
    "                \n",
    "    def set_element(self, index, value):\n",
    "        self.data[index[0]][index[1]] = float(value)\n",
    "    \n",
    "    def get_element(self, index):\n",
    "        return self.data[index[0]][index[1]]\n",
    "    \n",
    "    def scalar(self, other):\n",
    "        matrix = [[] for y in range(self.rows)]\n",
    "        for i in range(self.rows):\n",
    "            for j in range(self.columns):\n",
    "                matrix[i].append(self.data[i][j] * other)\n",
    "        self.set_data(matrix)\n",
    "        return self\n",
    "    \n",
    "    def __str__(self):\n",
    "        result = \"\"\n",
    "        for i in range(0,self.rows):\n",
    "            for j in range(0,self.columns):\n",
    "                result += str(self.data[i][j]) + \" \"\n",
    "            result += \"\\n\"\n",
    "        return result\n",
    "    \n",
    "    def __add__(self, other):\n",
    "        if(self.rows != other.rows or self.columns != other.columns): return 0\n",
    "        matrix = [[] for y in range(self.rows)]\n",
    "        for i in range(self.rows):\n",
    "            for j in range(self.columns):\n",
    "                matrix[i].append(self.data[i][j] + other.data[i][j])\n",
    "        self.set_data(matrix)\n",
    "        return self\n",
    "    \n",
    "    def __sub__(self, other):\n",
    "        if(self.rows != other.rows or self.columns != other.columns): return 0\n",
    "        matrix = [[] for y in range(self.rows)]\n",
    "        for i in range(self.rows):\n",
    "            for j in range(self.columns):\n",
    "                matrix[i].append(self.data[i][j] - other.data[i][j])\n",
    "        self.set_data(matrix)\n",
    "        return self\n",
    "    \n",
    "    def __rmul__(self, other):\n",
    "        if(not hasattr(other, \"__len__\")): return self.scalar(other)\n",
    "        else: return self.__mul__(self,other)\n",
    "    \n",
    "    def __mul__(self, other):        \n",
    "        if ( not isinstance(other, Matrix) or self.columns != other.rows): return\n",
    "        m = self.columns\n",
    "        matrix = [[] for y in range(self.rows)]\n",
    "        \n",
    "        for i in range(self.rows):\n",
    "            for j in range(other.columns):\n",
    "                result = 0\n",
    "                for k in range(m):\n",
    "                    result += self.data[i][k]*other.data[k][j]\n",
    "                matrix[i].append(result)\n",
    "        new_matrix = Matrix(self.rows,other.columns)\n",
    "        new_matrix.set_data(matrix)\n",
    "        return new_matrix\n",
    "    \n",
    "    def __invert__(self):\n",
    "        rows, columns = self.rows, self.columns\n",
    "        matrix = [[] for y in range(columns)]\n",
    "        for i in range(rows):\n",
    "            for j in range(columns):\n",
    "                matrix[j].append(self.data[i][j])\n",
    "                \n",
    "        new_matrix = Matrix(self.rows,other.columns)\n",
    "        new_matrix.set_data(matrix)\n",
    "        return new_matrix\n",
    "    \n",
    "    def __iadd__(self, other):\n",
    "        return self + other\n",
    "    \n",
    "    def __isub__(self, other):\n",
    "        return self - other\n",
    "    \n",
    "    def __eq__(self, other):\n",
    "        if(not isinstance(other, Matrix) or self.rows != other.rows or self.columns != other.columns):\n",
    "            return False\n",
    "        else:\n",
    "            for i in range(self.rows):\n",
    "                for j in range(self.columns):\n",
    "                    if(self.get_element((i,j)) != other.get_element((i,j))): return False\n",
    "        return True\n",
    "    \n",
    "    def __ne__(self, other):\n",
    "        return not self.__eq__(other)\n",
    "    "
   ]
  },
  {
   "cell_type": "markdown",
   "metadata": {},
   "source": [
    "## 2. Zadatak"
   ]
  },
  {
   "cell_type": "code",
   "execution_count": 85,
   "metadata": {},
   "outputs": [
    {
     "name": "stdout",
     "output_type": "stream",
     "text": [
      "3.0 9.0 6.0 \n",
      "4.0 12.0 12.0 \n",
      "1.0 -1.0 1.0 \n",
      "\n",
      "12.0 \n",
      "12.0 \n",
      "1.0 \n",
      "\n"
     ]
    }
   ],
   "source": [
    "A = Matrix.read_from_file('1.A.txt')\n",
    "print(A)\n",
    "b = Matrix.read_from_file('1.B.txt')\n",
    "print(b)\n",
    "\n",
    "dek, P = A.LUP_decomposition()"
   ]
  },
  {
   "cell_type": "code",
   "execution_count": 86,
   "metadata": {},
   "outputs": [
    {
     "name": "stdout",
     "output_type": "stream",
     "text": [
      "1.0 0.0 0.0 \n",
      "0.25 1.0 0.0 \n",
      "0.75 -0.0 1.0 \n",
      "\n",
      "4.0 12.0 12.0 \n",
      "0.0 -4.0 -2.0 \n",
      "0.0 0.0 -3.0 \n",
      "\n",
      "12.0 \n",
      "1.0 \n",
      "12.0 \n",
      "\n"
     ]
    }
   ],
   "source": [
    "L = dek.get_L()\n",
    "print(L)\n",
    "U = dek.get_U()\n",
    "print(U)\n",
    "print(P*b)"
   ]
  },
  {
   "cell_type": "code",
   "execution_count": 87,
   "metadata": {},
   "outputs": [
    {
     "name": "stdout",
     "output_type": "stream",
     "text": [
      "12.0 \n",
      "-2.0 \n",
      "3.0 \n",
      "\n",
      "3.0 \n",
      "1.0 \n",
      "-1.0 \n",
      "\n"
     ]
    }
   ],
   "source": [
    "y = L.forward_substitution(P*b)\n",
    "print(y)\n",
    "x = U.back_substitution(y)\n",
    "print(x)"
   ]
  },
  {
   "cell_type": "code",
   "execution_count": 88,
   "metadata": {},
   "outputs": [
    {
     "name": "stdout",
     "output_type": "stream",
     "text": [
      "12.0 \n",
      "12.0 \n",
      "1.0 \n",
      "\n"
     ]
    }
   ],
   "source": [
    "print(A*x)\n",
    "x.write_to_file('1.x.txt')"
   ]
  },
  {
   "cell_type": "markdown",
   "metadata": {
    "collapsed": true
   },
   "source": [
    "## 3. Zadatak"
   ]
  },
  {
   "cell_type": "code",
   "execution_count": 89,
   "metadata": {},
   "outputs": [
    {
     "name": "stdout",
     "output_type": "stream",
     "text": [
      "1.0 2.0 3.0 \n",
      "4.0 5.0 6.0 \n",
      "7.0 8.0 9.0 \n",
      "\n"
     ]
    }
   ],
   "source": [
    "A = Matrix.read_from_file('2.A.txt')\n",
    "print(A)\n",
    "\n",
    "LU = A.LU_decomposition()\n",
    "LUP, P = A.LUP_decomposition()"
   ]
  },
  {
   "cell_type": "code",
   "execution_count": 90,
   "metadata": {},
   "outputs": [
    {
     "name": "stdout",
     "output_type": "stream",
     "text": [
      "10.0 \n",
      "11.0 \n",
      "12.0 \n",
      "\n"
     ]
    }
   ],
   "source": [
    "b = Matrix.read_from_file('2.B.txt')\n",
    "print(b)"
   ]
  },
  {
   "cell_type": "code",
   "execution_count": 91,
   "metadata": {},
   "outputs": [
    {
     "name": "stdout",
     "output_type": "stream",
     "text": [
      "1.0 0.0 0.0 \n",
      "4.0 1.0 0.0 \n",
      "7.0 2.0 1.0 \n",
      "\n",
      "1.0 2.0 3.0 \n",
      "0.0 -3.0 -6.0 \n",
      "0.0 0.0 0.0 \n",
      "\n"
     ]
    }
   ],
   "source": [
    "L = LU.get_L()\n",
    "print(L)\n",
    "U = LU.get_U()\n",
    "print(U)"
   ]
  },
  {
   "cell_type": "code",
   "execution_count": 92,
   "metadata": {},
   "outputs": [
    {
     "name": "stdout",
     "output_type": "stream",
     "text": [
      "10.0 \n",
      "-29.0 \n",
      "0.0 \n",
      "\n",
      "Postupak zaustavljen u supstituciji unatrag jer je pivot manji od zadane granice!\n",
      "None\n",
      "None\n"
     ]
    }
   ],
   "source": [
    "y = L.forward_substitution(b)\n",
    "print(y)\n",
    "x = U.back_substitution(y)\n",
    "print(x)\n",
    "\n",
    "print(A*x)"
   ]
  },
  {
   "cell_type": "code",
   "execution_count": 93,
   "metadata": {},
   "outputs": [
    {
     "name": "stdout",
     "output_type": "stream",
     "text": [
      "1.0 0.0 0.0 \n",
      "0.14285714285714285 1.0 0.0 \n",
      "0.5714285714285714 0.5000000000000002 1.0 \n",
      "\n",
      "7.0 8.0 9.0 \n",
      "0.0 0.8571428571428572 1.7142857142857144 \n",
      "0.0 0.0 1.1102230246251565e-16 \n",
      "\n"
     ]
    }
   ],
   "source": [
    "L = LUP.get_L()\n",
    "print(L)\n",
    "U = LUP.get_U()\n",
    "print(U)"
   ]
  },
  {
   "cell_type": "code",
   "execution_count": 94,
   "metadata": {},
   "outputs": [
    {
     "name": "stdout",
     "output_type": "stream",
     "text": [
      "12.0 \n",
      "8.285714285714286 \n",
      "-1.7763568394002505e-15 \n",
      "\n",
      "Postupak zaustavljen u supstituciji unatrag jer je pivot manji od zadane granice!\n",
      "None\n",
      "None\n"
     ]
    }
   ],
   "source": [
    "y = L.forward_substitution(P*b)\n",
    "print(y)\n",
    "x = U.back_substitution(y)\n",
    "print(x)\n",
    "\n",
    "print(A*x)"
   ]
  },
  {
   "cell_type": "markdown",
   "metadata": {},
   "source": [
    "## 4. Zadatak"
   ]
  },
  {
   "cell_type": "code",
   "execution_count": 95,
   "metadata": {},
   "outputs": [
    {
     "name": "stdout",
     "output_type": "stream",
     "text": [
      "1e-06 3000000.0 2000000.0 \n",
      "1000000.0 2000000.0 3000000.0 \n",
      "2000000.0 1000000.0 2000000.0 \n",
      "\n",
      "12000000.000001 \n",
      "14000000.0 \n",
      "10000000.0 \n",
      "\n",
      "1e-06 3000000.0 2000000.0 \n",
      "1000000000000.0 -2.999999999998e+18 -1.999999999997e+18 \n",
      "2000000000000.0 2.0000000000009996 -2000896.0 \n",
      "\n"
     ]
    }
   ],
   "source": [
    "A = Matrix.read_from_file('3.A.txt')\n",
    "print(A)\n",
    "b = Matrix.read_from_file('3.B.txt')\n",
    "print(b)\n",
    "LU = A.LU_decomposition()\n",
    "print(LU)"
   ]
  },
  {
   "cell_type": "markdown",
   "metadata": {},
   "source": [
    "### Rješenje LU dekompozicijom"
   ]
  },
  {
   "cell_type": "code",
   "execution_count": 96,
   "metadata": {},
   "outputs": [
    {
     "name": "stdout",
     "output_type": "stream",
     "text": [
      "12000000.000001 \n",
      "-1.1999999999987e+19 \n",
      "-6004736.0 \n",
      "\n",
      "1.000240445137024 \n",
      "1.9993176390310476 \n",
      "3.0010235414534288 \n",
      "\n",
      "12000000.000001 \n",
      "14001946.347559405 \n",
      "10001845.612211954 \n",
      "\n"
     ]
    }
   ],
   "source": [
    "L = LU.get_L()\n",
    "U = LU.get_U()\n",
    "y = L.forward_substitution(b)\n",
    "print(y)\n",
    "x = U.back_substitution(y)\n",
    "print(x)\n",
    "\n",
    "print(A*x)"
   ]
  },
  {
   "cell_type": "markdown",
   "metadata": {},
   "source": [
    "### Rješenje LUP dekompozicijom"
   ]
  },
  {
   "cell_type": "code",
   "execution_count": 97,
   "metadata": {},
   "outputs": [
    {
     "name": "stdout",
     "output_type": "stream",
     "text": [
      "10000000.0 \n",
      "11999999.999996 \n",
      "3000000.0000009993 \n",
      "\n",
      "1.0000000000000002 \n",
      "2.0000000000000004 \n",
      "2.9999999999999996 \n",
      "\n",
      "12000000.000001 \n",
      "14000000.0 \n",
      "10000000.0 \n",
      "\n"
     ]
    }
   ],
   "source": [
    "LUP, P = A.LUP_decomposition()\n",
    "L = LUP.get_L()\n",
    "U = LUP.get_U()\n",
    "y = L.forward_substitution(P*b)\n",
    "\n",
    "print(y)\n",
    "x = U.back_substitution(y)\n",
    "print(x)\n",
    "\n",
    "print(A*x)"
   ]
  },
  {
   "cell_type": "markdown",
   "metadata": {},
   "source": [
    "## 5. Zadatak"
   ]
  },
  {
   "cell_type": "code",
   "execution_count": 98,
   "metadata": {},
   "outputs": [
    {
     "name": "stdout",
     "output_type": "stream",
     "text": [
      "0.0 1.0 2.0 \n",
      "2.0 0.0 3.0 \n",
      "3.0 5.0 1.0 \n",
      "\n",
      "6.0 \n",
      "9.0 \n",
      "3.0 \n",
      "\n"
     ]
    }
   ],
   "source": [
    "A = Matrix.read_from_file('4.A.txt')\n",
    "print(A)\n",
    "b = Matrix.read_from_file('4.B.txt')\n",
    "print(b)"
   ]
  },
  {
   "cell_type": "code",
   "execution_count": 99,
   "metadata": {},
   "outputs": [
    {
     "name": "stdout",
     "output_type": "stream",
     "text": [
      "LU dekompozicija je zaustavljena jer je detektiran stozerni element manji od zadane granice!\n",
      "Pokrećem LUP dekompoziciju..\n",
      "3.0 \n",
      "7.0 \n",
      "8.100000000000001 \n",
      "\n",
      "-1.0362081563168128e-15 \n",
      "5.329070518200752e-16 \n",
      "3.0000000000000004 \n",
      "\n",
      "6.000000000000002 \n",
      "9.0 \n",
      "3.0 \n",
      "\n"
     ]
    }
   ],
   "source": [
    "LUP, P = A.LU_decomposition()\n",
    "L = LUP.get_L()\n",
    "U = LUP.get_U()\n",
    "y = L.forward_substitution(P*b)\n",
    "\n",
    "print(y)\n",
    "x = U.back_substitution(y)\n",
    "print(x)\n",
    "\n",
    "print(A*x)"
   ]
  },
  {
   "cell_type": "markdown",
   "metadata": {},
   "source": [
    "## 6. Zadatak"
   ]
  },
  {
   "cell_type": "code",
   "execution_count": 100,
   "metadata": {},
   "outputs": [
    {
     "name": "stdout",
     "output_type": "stream",
     "text": [
      "4000000000.0 1000000000.0 3000000000.0 \n",
      "4.0 2.0 7.0 \n",
      "3e-10 5e-10 2e-10 \n",
      "\n",
      "9000000000.0 \n",
      "15.0 \n",
      "1.5e-09 \n",
      "\n"
     ]
    }
   ],
   "source": [
    "A = Matrix.read_from_file('5.A.txt')\n",
    "print(A)\n",
    "b = Matrix.read_from_file('5.B.txt')\n",
    "print(b)"
   ]
  },
  {
   "cell_type": "code",
   "execution_count": 104,
   "metadata": {},
   "outputs": [
    {
     "name": "stdout",
     "output_type": "stream",
     "text": [
      "9000000000.0 \n",
      "6.0 \n",
      "-1.7250000000000001e-09 \n",
      "\n",
      "Postupak zaustavljen u supstituciji unatrag jer je pivot manji od zadane granice!\n",
      "None\n",
      "None\n"
     ]
    }
   ],
   "source": [
    "LU= A.LU_decomposition()\n",
    "L = LU.get_L()\n",
    "U = LU.get_U()\n",
    "y = L.forward_substitution(b)\n",
    "\n",
    "print(y)\n",
    "x = U.back_substitution(y)\n",
    "print(x)\n",
    "\n",
    "print(A*x)"
   ]
  },
  {
   "cell_type": "code",
   "execution_count": null,
   "metadata": {
    "collapsed": true
   },
   "outputs": [],
   "source": []
  }
 ],
 "metadata": {
  "kernelspec": {
   "display_name": "Python 3",
   "language": "python",
   "name": "python3"
  },
  "language_info": {
   "codemirror_mode": {
    "name": "ipython",
    "version": 3
   },
   "file_extension": ".py",
   "mimetype": "text/x-python",
   "name": "python",
   "nbconvert_exporter": "python",
   "pygments_lexer": "ipython3",
   "version": "3.6.2"
  }
 },
 "nbformat": 4,
 "nbformat_minor": 2
}
